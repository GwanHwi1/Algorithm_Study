{
 "cells": [
  {
   "attachments": {},
   "cell_type": "markdown",
   "metadata": {},
   "source": [
    "1904번. 01타일(https://www.acmicpc.net/problem/1904)"
   ]
  },
  {
   "cell_type": "code",
   "execution_count": null,
   "metadata": {},
   "outputs": [],
   "source": [
    "n = int(input())\n",
    "result = 0\n",
    "lst=[0]\n",
    "lst.append(1)\n",
    "lst.append(2)\n",
    "\n",
    "for i in range(3,n+1):\n",
    "    lst.append((lst[i-2]+lst[i-1]) % 15746)\n",
    "\n",
    "print(lst[n])"
   ]
  },
  {
   "attachments": {},
   "cell_type": "markdown",
   "metadata": {},
   "source": [
    "9461번. 파도반 수열(https://www.acmicpc.net/problem/9461)"
   ]
  },
  {
   "cell_type": "code",
   "execution_count": null,
   "metadata": {},
   "outputs": [],
   "source": [
    "t = int(input())\n",
    "dp = [0] * 101\n",
    "dp[1] = 1\n",
    "dp[2] = 1\n",
    "dp[3] = 1\n",
    "\n",
    "for i in range(4, 101):\n",
    "    dp[i] = dp[i-3] + dp[i-2]\n",
    "\n",
    "for _ in range(t):\n",
    "    n = int(input())\n",
    "    print(dp[n])"
   ]
  },
  {
   "attachments": {},
   "cell_type": "markdown",
   "metadata": {},
   "source": [
    "1912번. 연속합(https://www.acmicpc.net/problem/1912)"
   ]
  },
  {
   "cell_type": "code",
   "execution_count": null,
   "metadata": {},
   "outputs": [],
   "source": [
    "n = int(input())\n",
    "lst = list(map(int, input().split()))\n",
    "dp = [-1001]\n",
    "total = 0\n",
    "\n",
    "for i in range(1, n+1):\n",
    "    total += lst[i-1]\n",
    "    if total >= dp[i-1]: dp.append(total)\n",
    "    else: dp.append(dp[i-1])\n",
    "    if total < 0: total = 0    \n",
    "\n",
    "print(dp[n])"
   ]
  }
 ],
 "metadata": {
  "kernelspec": {
   "display_name": "Python 3",
   "language": "python",
   "name": "python3"
  },
  "language_info": {
   "name": "python",
   "version": "3.8.2 (tags/v3.8.2:7b3ab59, Feb 25 2020, 22:45:29) [MSC v.1916 32 bit (Intel)]"
  },
  "orig_nbformat": 4,
  "vscode": {
   "interpreter": {
    "hash": "9ff2bb87db5cab1dc5fa504b1b03a4c55ad97edc816da95c1119c14a6a32f882"
   }
  }
 },
 "nbformat": 4,
 "nbformat_minor": 2
}
