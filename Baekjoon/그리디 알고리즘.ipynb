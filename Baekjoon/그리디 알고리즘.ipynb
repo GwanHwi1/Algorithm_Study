{
 "cells": [
  {
   "attachments": {},
   "cell_type": "markdown",
   "metadata": {},
   "source": [
    "11047번. 동전 0 (https://www.acmicpc.net/problem/11047)"
   ]
  },
  {
   "cell_type": "code",
   "execution_count": null,
   "metadata": {},
   "outputs": [],
   "source": [
    "import sys\n",
    "\n",
    "input = sys.stdin.readline\n",
    "n, k = map(int, input().split())\n",
    "lst = []\n",
    "for _ in range(n):\n",
    "    lst.append(int(input()))\n",
    "lst.sort(reverse= True)\n",
    "cnt = 0\n",
    "for i in lst:\n",
    "    if k//i > 0 :\n",
    "        cnt += k//i\n",
    "        k = k % i\n",
    "    if not k: break\n",
    "print(cnt)"
   ]
  },
  {
   "attachments": {},
   "cell_type": "markdown",
   "metadata": {},
   "source": [
    "1931번. 회의실 배정 (https://www.acmicpc.net/problem/1931)"
   ]
  },
  {
   "cell_type": "code",
   "execution_count": null,
   "metadata": {},
   "outputs": [],
   "source": [
    "import sys\n",
    "\n",
    "input = sys.stdin.readline\n",
    "n = int(input())\n",
    "result = 0\n",
    "lst = []\n",
    "for i in range(n):\n",
    "    a = list(map(int, input().split()))\n",
    "    lst.append(a)\n",
    "lst.sort(key = lambda x: (x[1], x[0]))\n",
    "end = 0\n",
    "for i in lst:\n",
    "    if i[0] >= end:\n",
    "        result +=1\n",
    "        end = i[1] \n",
    "print(result)"
   ]
  },
  {
   "attachments": {},
   "cell_type": "markdown",
   "metadata": {},
   "source": [
    "11399번. ATM (https://www.acmicpc.net/problem/11399)"
   ]
  },
  {
   "cell_type": "code",
   "execution_count": null,
   "metadata": {},
   "outputs": [],
   "source": [
    "import sys\n",
    "\n",
    "input = sys.stdin.readline\n",
    "n = int(input())\n",
    "lst = list(map(int, input().split()))\n",
    "lst.sort()\n",
    "for i in range(1,len(lst)): lst[i] += lst[i-1]\n",
    "print(sum(lst))"
   ]
  }
 ],
 "metadata": {
  "kernelspec": {
   "display_name": "Python 3",
   "language": "python",
   "name": "python3"
  },
  "language_info": {
   "name": "python",
   "version": "3.8.2 (tags/v3.8.2:7b3ab59, Feb 25 2020, 22:45:29) [MSC v.1916 32 bit (Intel)]"
  },
  "orig_nbformat": 4,
  "vscode": {
   "interpreter": {
    "hash": "9ff2bb87db5cab1dc5fa504b1b03a4c55ad97edc816da95c1119c14a6a32f882"
   }
  }
 },
 "nbformat": 4,
 "nbformat_minor": 2
}
