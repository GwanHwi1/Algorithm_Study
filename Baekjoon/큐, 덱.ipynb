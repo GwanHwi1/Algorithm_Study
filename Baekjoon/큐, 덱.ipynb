{
 "cells": [
  {
   "attachments": {},
   "cell_type": "markdown",
   "metadata": {},
   "source": [
    "18258번. 큐 2 (https://www.acmicpc.net/problem/18258)"
   ]
  },
  {
   "cell_type": "code",
   "execution_count": 1,
   "metadata": {},
   "outputs": [
    {
     "data": {
      "text/plain": [
       "1"
      ]
     },
     "execution_count": 1,
     "metadata": {},
     "output_type": "execute_result"
    }
   ],
   "source": [
    "from collections import deque\n",
    "import sys\n",
    "\n",
    "n = int(sys.stdin.readline())\n",
    "que = deque()\n",
    "for i in range(n):\n",
    "  a = sys.stdin.readline().rstrip()\n",
    "  if a == \"pop\": \n",
    "    if not que: print(-1)\n",
    "    else: print(que.popleft())\n",
    "  elif a == \"size\": print(len(que))\n",
    "  elif a == \"empty\":\n",
    "        if not que: print(1)\n",
    "        else: print(0)\n",
    "  elif a == \"front\":\n",
    "        if not que: print(-1)\n",
    "        else: print(que[0])\n",
    "  elif a == \"back\":\n",
    "        if not que: print(-1)\n",
    "        else: print(que[-1])\n",
    "  else: que.append(int(a[5:]))\n"
   ]
  },
  {
   "attachments": {},
   "cell_type": "markdown",
   "metadata": {},
   "source": [
    "2164번. 카드2 (https://www.acmicpc.net/problem/2164)"
   ]
  },
  {
   "cell_type": "code",
   "execution_count": null,
   "metadata": {},
   "outputs": [],
   "source": [
    "from collections import deque\n",
    "import sys\n",
    "\n",
    "\n",
    "n = int(sys.stdin.readline())\n",
    "que = deque()\n",
    "for i in range(1,n+1):\n",
    "    que.append(i)\n",
    "\n",
    "while n != 1:\n",
    "  que.popleft()\n",
    "  que.append(que.popleft())\n",
    "  n -= 1\n",
    "\n",
    "print(que.popleft())"
   ]
  },
  {
   "attachments": {},
   "cell_type": "markdown",
   "metadata": {},
   "source": [
    "15828번. Router (https://www.acmicpc.net/problem/15828)"
   ]
  },
  {
   "cell_type": "code",
   "execution_count": null,
   "metadata": {},
   "outputs": [],
   "source": [
    "from collections import deque\n",
    "import sys\n",
    "\n",
    "\n",
    "n = int(sys.stdin.readline())\n",
    "que = deque()\n",
    "\n",
    "while True:\n",
    "    a = int(sys.stdin.readline())\n",
    "    if a == -1: break\n",
    "    elif a == 0: que.popleft()\n",
    "    else: \n",
    "        if len(que) != n: que.append(a)\n",
    "\n",
    "for i in que:\n",
    "    print(i, end=\" \")\n"
   ]
  },
  {
   "attachments": {},
   "cell_type": "markdown",
   "metadata": {},
   "source": [
    "11866번. 요세푸스 문제 0 (https://www.acmicpc.net/problem/11866)"
   ]
  },
  {
   "cell_type": "code",
   "execution_count": null,
   "metadata": {},
   "outputs": [],
   "source": [
    "from collections import deque\n",
    "import sys\n",
    "\n",
    "\n",
    "n, k = map(int, sys.stdin.readline().split())\n",
    "que = deque([i for i in range(1, n+1)])\n",
    "lst = []\n",
    "cnt = 1\n",
    "\n",
    "while True:\n",
    "    if len(que) == 1: \n",
    "        lst.append(que.popleft())\n",
    "        break\n",
    "    else:\n",
    "        if cnt % k ==0: lst.append(que.popleft())\n",
    "        else: que.append(que.popleft())\n",
    "        cnt += 1\n",
    "\n",
    "s = \"\"\n",
    "for i in range(n):\n",
    "    if i == n-1: s += str(lst[i])\n",
    "    else: s += str(lst[i])+\", \"\n",
    "s = '<' + s + '>'\n",
    "print(s)"
   ]
  },
  {
   "attachments": {},
   "cell_type": "markdown",
   "metadata": {},
   "source": [
    "1966번. 프린터 큐 (https://www.acmicpc.net/problem/1966)"
   ]
  },
  {
   "cell_type": "code",
   "execution_count": null,
   "metadata": {},
   "outputs": [],
   "source": [
    "from collections import deque\n",
    "import sys\n",
    "\n",
    "\n",
    "t = int(sys.stdin.readline())\n",
    "for _ in range(t):\n",
    "    n, m = map(int, sys.stdin.readline().split())\n",
    "    q = deque(list(map(int, sys.stdin.readline().split())))\n",
    "    cnt = 0\n",
    "    lst = deque([1] * n)\n",
    "    lst[m] = 0\n",
    "    while True:\n",
    "        result = True\n",
    "        for i in range(1,len(q)):\n",
    "            if q[0] < q[i]:\n",
    "                result = False\n",
    "                break\n",
    "        if result:\n",
    "            cnt += 1\n",
    "            if lst[0] == 0:\n",
    "                print(cnt)\n",
    "                break\n",
    "            else: \n",
    "                lst.popleft()\n",
    "                q.popleft()\n",
    "        else: \n",
    "            lst.append(lst.popleft())\n",
    "            q.append(q.popleft())\n",
    "\n",
    "\n"
   ]
  },
  {
   "attachments": {},
   "cell_type": "markdown",
   "metadata": {},
   "source": [
    "10866번. 덱 (https://www.acmicpc.net/problem/10866)"
   ]
  },
  {
   "cell_type": "code",
   "execution_count": null,
   "metadata": {},
   "outputs": [],
   "source": [
    "from collections import deque\n",
    "import sys\n",
    "\n",
    "n = int(sys.stdin.readline())\n",
    "q = deque()\n",
    "for i in range(n):\n",
    "    s = sys.stdin.readline().split()\n",
    "    if s[0] == \"push_front\": q.appendleft(int(s[1]))\n",
    "    elif s[0] == \"push_back\": q.append(int(s[1]))\n",
    "    elif s[0] == \"pop_front\":\n",
    "        if not q: print(-1)\n",
    "        else: print(q.popleft())\n",
    "    elif s[0] == \"pop_back\":\n",
    "        if not q: print(-1)\n",
    "        else: print(q.pop())\n",
    "    elif s[0] == \"size\": print(len(q))\n",
    "    elif s[0] == \"empty\":\n",
    "        if q: print(0)\n",
    "        else: print(1)\n",
    "    elif s[0] == \"front\":\n",
    "        if not q: print(-1)\n",
    "        else: print(q[0])\n",
    "    else: # \"back\"\n",
    "        if not q: print(-1)\n",
    "        else: print(q[-1])"
   ]
  },
  {
   "attachments": {},
   "cell_type": "markdown",
   "metadata": {},
   "source": [
    "1021번. 회전하는 큐 (https://www.acmicpc.net/problem/1021)"
   ]
  },
  {
   "cell_type": "code",
   "execution_count": null,
   "metadata": {},
   "outputs": [],
   "source": [
    "from collections import deque\n",
    "\n",
    "n, m = map(int, input().split())\n",
    "lst = deque(list(map(int, input().split())))\n",
    "q = deque([0] * n)\n",
    "for i in lst: q[i-1] = i\n",
    "q1 = q.copy()\n",
    "lst1 = lst.copy()\n",
    "cnt = 0\n",
    "result = 0\n",
    "\n",
    "def rotate(a, que, l, r):\n",
    "    if que[0] == l[0]:\n",
    "        que.popleft()\n",
    "        l.popleft()\n",
    "        return a\n",
    "    else: \n",
    "        if r == 2: \n",
    "            que.append(que.popleft())\n",
    "        if r == 3: \n",
    "            que.appendleft(que.pop())\n",
    "        a += 1\n",
    "    return rotate(a, que, l, r)\n",
    "\n",
    "for _ in range(m):\n",
    "    result += min(rotate(0, q, lst, 2), rotate(0, q1, lst1, 3))\n",
    "\n",
    "print(result)"
   ]
  }
 ],
 "metadata": {
  "kernelspec": {
   "display_name": "Python 3",
   "language": "python",
   "name": "python3"
  },
  "language_info": {
   "codemirror_mode": {
    "name": "ipython",
    "version": 3
   },
   "file_extension": ".py",
   "mimetype": "text/x-python",
   "name": "python",
   "nbconvert_exporter": "python",
   "pygments_lexer": "ipython3",
   "version": "3.8.2 (tags/v3.8.2:7b3ab59, Feb 25 2020, 22:45:29) [MSC v.1916 32 bit (Intel)]"
  },
  "orig_nbformat": 4,
  "vscode": {
   "interpreter": {
    "hash": "9ff2bb87db5cab1dc5fa504b1b03a4c55ad97edc816da95c1119c14a6a32f882"
   }
  }
 },
 "nbformat": 4,
 "nbformat_minor": 2
}
