{
 "cells": [
  {
   "attachments": {},
   "cell_type": "markdown",
   "metadata": {},
   "source": [
    "14889번. 스타트와 링크"
   ]
  },
  {
   "cell_type": "code",
   "execution_count": 6,
   "metadata": {},
   "outputs": [
    {
     "ename": "IndexError",
     "evalue": "list index out of range",
     "output_type": "error",
     "traceback": [
      "\u001b[1;31m---------------------------------------------------------------------------\u001b[0m",
      "\u001b[1;31mIndexError\u001b[0m                                Traceback (most recent call last)",
      "Cell \u001b[1;32mIn [6], line 2\u001b[0m\n\u001b[0;32m      1\u001b[0m a\u001b[39m=\u001b[39m[]\n\u001b[1;32m----> 2\u001b[0m \u001b[39mprint\u001b[39m(a[\u001b[39mlen\u001b[39;49m(a)])\n",
      "\u001b[1;31mIndexError\u001b[0m: list index out of range"
     ]
    }
   ],
   "source": [
    "def backtracking(t):\n",
    "    global result\n",
    "    if len(lst)==n//2:\n",
    "        lst2 = []\n",
    "        for i in range(n):\n",
    "            if i not in lst: lst2.append(i)\n",
    "        start = 0\n",
    "        link = 0\n",
    "        for i in range(len(lst)):\n",
    "            for j in range(len(lst)):\n",
    "                if i!=j :\n",
    "                    start += s[lst[i]][lst[j]]\n",
    "                    link += s[lst2[i]][lst2[j]]\n",
    "        a = abs(start - link)\n",
    "        result = min(result, a)\n",
    "        # print(\"start:\", start, \"link:\", link, \"result:\", result)\n",
    "        return\n",
    "    for i in range(t, n):\n",
    "        if i not in lst:\n",
    "            lst.append(i)\n",
    "            backtracking(i)\n",
    "            lst.pop()\n",
    "\n",
    "n = int(input())\n",
    "s = [list(map(int, input().split()))for _ in range(n)]\n",
    "result = 2000\n",
    "lst=[]\n",
    "backtracking(0)\n",
    "print(result)"
   ]
  },
  {
   "attachments": {},
   "cell_type": "markdown",
   "metadata": {},
   "source": [
    "14888. 연산자 끼워넣기"
   ]
  },
  {
   "cell_type": "code",
   "execution_count": 10,
   "metadata": {},
   "outputs": [
    {
     "name": "stdout",
     "output_type": "stream",
     "text": [
      "1000000000.0\n"
     ]
    }
   ],
   "source": [
    "n = int(input())\n",
    "nums = list(map(int, input().split()))\n",
    "ea = list(map(int, input().split()))\n",
    "lst=[]\n",
    "\n",
    "def backT(a, b):\n",
    "    if a==len(nums): \n",
    "        lst.append(b)\n",
    "        return\n",
    "    beforeN = b\n",
    "    for i in range(len(ea)):\n",
    "        if ea[i] > 0:\n",
    "            ea[i] -= 1\n",
    "            if i==0: b += nums[a]\n",
    "            elif i==1: b -= nums[a]\n",
    "            elif i==2: b *= nums[a]\n",
    "            elif i==3: \n",
    "                if b<0: b = -(abs(b)//nums[a])\n",
    "                else: b = b//nums[a]\n",
    "            backT(a+1, b)\n",
    "            b = beforeN\n",
    "            ea[i] += 1\n",
    "\n",
    "backT(1, nums[0])\n",
    "print(max(lst))\n",
    "print(min(lst))"
   ]
  },
  {
   "attachments": {},
   "cell_type": "markdown",
   "metadata": {},
   "source": [
    "2580번. 스도쿠"
   ]
  },
  {
   "cell_type": "code",
   "execution_count": 6,
   "metadata": {},
   "outputs": [
    {
     "name": "stdout",
     "output_type": "stream",
     "text": [
      "[1, 2, 3, 4]\n"
     ]
    }
   ],
   "source": [
    "sudoku = [list(map(int, input().split())) for _ in range(9)]\n",
    "t=[]\n",
    "for i in range(9):\n",
    "    for j in range(9):\n",
    "        if sudoku[i][j] == 0: t.append([i,j])\n",
    "\n",
    "def dfs(a, b):\n",
    "    if a == 9: \n",
    "        result = True\n",
    "        for i in range(len(t)):\n",
    "            if not checking(sudoku): \n",
    "                result = False\n",
    "                break\n",
    "        if result:\n",
    "            for i in range(9):\n",
    "                for j in range(9):\n",
    "                    print(sudoku[i][j], end=\" \")\n",
    "                    if j == 8: print(\"\")\n",
    "            exit()\n",
    "        return\n",
    "    if sudoku[a][b] == 0:\n",
    "        nums=[1,2,3,4,5,6,7,8,9]\n",
    "        for i in range(1, 10):\n",
    "            if i in sudoku[a]: nums.remove(i)\n",
    "        for i in range(9): \n",
    "            if sudoku[i][b] in nums: nums.remove(sudoku[i][b])\n",
    "        r = (a // 3) * 3\n",
    "        c = (b // 3) * 3\n",
    "        for i in range(r, r+3):\n",
    "            for j in range(c, c+3):\n",
    "                if sudoku[i][j] in nums: nums.remove(sudoku[i][j])\n",
    "        # print(nums)\n",
    "        for i in nums:\n",
    "            sudoku[a][b] = i\n",
    "            if b == 8: dfs(a+1, 0)\n",
    "            else: dfs(a, b+1)\n",
    "            sudoku[a][b] = 0\n",
    "    else: \n",
    "        if b == 8: dfs(a+1, 0)\n",
    "        else: dfs(a, b+1)\n",
    "           \n",
    "def checking(lst):\n",
    "    cntRow = 0\n",
    "    cntCol = 0\n",
    "    cntBox = 0\n",
    "    result = True\n",
    "    for i in range(9):\n",
    "        for j in range(9):\n",
    "            cntRow += lst[i][j]\n",
    "            cntCol += lst[j][i]\n",
    "        if cntRow != 45 or cntCol != 45: \n",
    "            result = False\n",
    "            break\n",
    "        cntCol = 0\n",
    "        cntRow = 0\n",
    "    for i in range(3):\n",
    "        for j in range(i*3, i*3+3):\n",
    "            for k in range(i*3, i*3+3):\n",
    "                cntBox += lst[j][k]\n",
    "        if cntBox != 45:\n",
    "            result = False\n",
    "            break\n",
    "        cntBox = 0\n",
    "    return result\n",
    "\n",
    "dfs(0,0)\n"
   ]
  }
 ],
 "metadata": {
  "kernelspec": {
   "display_name": "Python 3",
   "language": "python",
   "name": "python3"
  },
  "language_info": {
   "codemirror_mode": {
    "name": "ipython",
    "version": 3
   },
   "file_extension": ".py",
   "mimetype": "text/x-python",
   "name": "python",
   "nbconvert_exporter": "python",
   "pygments_lexer": "ipython3",
   "version": "3.8.2"
  },
  "orig_nbformat": 4,
  "vscode": {
   "interpreter": {
    "hash": "9ff2bb87db5cab1dc5fa504b1b03a4c55ad97edc816da95c1119c14a6a32f882"
   }
  }
 },
 "nbformat": 4,
 "nbformat_minor": 2
}
