{
 "cells": [
  {
   "attachments": {},
   "cell_type": "markdown",
   "metadata": {},
   "source": [
    "14889번. 스타트와 링크"
   ]
  },
  {
   "cell_type": "code",
   "execution_count": 6,
   "metadata": {},
   "outputs": [
    {
     "ename": "IndexError",
     "evalue": "list index out of range",
     "output_type": "error",
     "traceback": [
      "\u001b[1;31m---------------------------------------------------------------------------\u001b[0m",
      "\u001b[1;31mIndexError\u001b[0m                                Traceback (most recent call last)",
      "Cell \u001b[1;32mIn [6], line 2\u001b[0m\n\u001b[0;32m      1\u001b[0m a\u001b[39m=\u001b[39m[]\n\u001b[1;32m----> 2\u001b[0m \u001b[39mprint\u001b[39m(a[\u001b[39mlen\u001b[39;49m(a)])\n",
      "\u001b[1;31mIndexError\u001b[0m: list index out of range"
     ]
    }
   ],
   "source": [
    "def backtracking(t):\n",
    "    global result\n",
    "    if len(lst)==n//2:\n",
    "        lst2 = []\n",
    "        for i in range(n):\n",
    "            if i not in lst: lst2.append(i)\n",
    "        start = 0\n",
    "        link = 0\n",
    "        for i in range(len(lst)):\n",
    "            for j in range(len(lst)):\n",
    "                if i!=j :\n",
    "                    start += s[lst[i]][lst[j]]\n",
    "                    link += s[lst2[i]][lst2[j]]\n",
    "        a = abs(start - link)\n",
    "        result = min(result, a)\n",
    "        # print(\"start:\", start, \"link:\", link, \"result:\", result)\n",
    "        return\n",
    "    for i in range(t, n):\n",
    "        if i not in lst:\n",
    "            lst.append(i)\n",
    "            backtracking(i)\n",
    "            lst.pop()\n",
    "\n",
    "n = int(input())\n",
    "s = [list(map(int, input().split()))for _ in range(n)]\n",
    "result = 2000\n",
    "lst=[]\n",
    "backtracking(0)\n",
    "print(result)"
   ]
  },
  {
   "cell_type": "code",
   "execution_count": null,
   "metadata": {},
   "outputs": [],
   "source": []
  }
 ],
 "metadata": {
  "kernelspec": {
   "display_name": "Python 3",
   "language": "python",
   "name": "python3"
  },
  "language_info": {
   "codemirror_mode": {
    "name": "ipython",
    "version": 3
   },
   "file_extension": ".py",
   "mimetype": "text/x-python",
   "name": "python",
   "nbconvert_exporter": "python",
   "pygments_lexer": "ipython3",
   "version": "3.8.2 (tags/v3.8.2:7b3ab59, Feb 25 2020, 22:45:29) [MSC v.1916 32 bit (Intel)]"
  },
  "orig_nbformat": 4,
  "vscode": {
   "interpreter": {
    "hash": "9ff2bb87db5cab1dc5fa504b1b03a4c55ad97edc816da95c1119c14a6a32f882"
   }
  }
 },
 "nbformat": 4,
 "nbformat_minor": 2
}
