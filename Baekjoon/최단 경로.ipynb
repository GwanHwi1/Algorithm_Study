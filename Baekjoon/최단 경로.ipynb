{
 "cells": [
  {
   "attachments": {},
   "cell_type": "markdown",
   "metadata": {},
   "source": [
    "1753번. 최단경로 (https://www.acmicpc.net/problem/1753)"
   ]
  },
  {
   "cell_type": "code",
   "execution_count": null,
   "metadata": {},
   "outputs": [],
   "source": [
    "import heapq\n",
    "import sys\n",
    "\n",
    "INF = int(1e9)\n",
    "input = sys.stdin.readline\n",
    "n, m = map(int, input().split())\n",
    "start = int(input())\n",
    "graph = [[] for _ in range(n + 1)]\n",
    "distance = [INF] * (n + 1)\n",
    "\n",
    "for _ in range(m):\n",
    "    a, b, c = map(int, input().split())\n",
    "    graph[a].append((b, c))\n",
    "\n",
    "def dijkstra(start):\n",
    "    q = []\n",
    "    heapq.heappush(q, (0, start))\n",
    "    distance[start] = 0\n",
    "    while q:\n",
    "        dist, now = heapq.heappop(q)\n",
    "        if distance[now] < dist: continue\n",
    "        for i in graph[now]:\n",
    "            cost = dist + i[1]\n",
    "            if cost < distance[i[0]]:\n",
    "                distance[i[0]] = cost\n",
    "                heapq.heappush(q, (cost, i[0]))\n",
    "\n",
    "dijkstra(start)\n",
    "\n",
    "for i in range(1, n + 1):\n",
    "    if distance[i] == INF: print(\"INF\")\n",
    "    else: print(distance[i])"
   ]
  },
  {
   "attachments": {},
   "cell_type": "markdown",
   "metadata": {},
   "source": [
    "1504. 특정한 최단 경로 (https://www.acmicpc.net/problem/1504)"
   ]
  },
  {
   "cell_type": "code",
   "execution_count": null,
   "metadata": {},
   "outputs": [],
   "source": [
    "import heapq\n",
    "import sys\n",
    "\n",
    "INF = int(1e9)\n",
    "input = sys.stdin.readline\n",
    "n, m = map(int, input().split())\n",
    "graph = [[] for _ in range(n + 1)]\n",
    "\n",
    "for _ in range(m):\n",
    "    a, b, c = map(int, input().split())\n",
    "    graph[a].append((b, c))\n",
    "    graph[b].append((a, c))\n",
    "\n",
    "def dijkstra(start, end):\n",
    "    q = []\n",
    "    distance = [INF] * (n + 1)\n",
    "    heapq.heappush(q, (0, start))\n",
    "    distance[start] = 0\n",
    "    while q:\n",
    "        dist, now = heapq.heappop(q)\n",
    "        if distance[now] < dist: continue\n",
    "        for i in graph[now]:\n",
    "            cost = dist + i[1]\n",
    "            if cost < distance[i[0]]:\n",
    "                distance[i[0]] = cost\n",
    "                heapq.heappush(q, (cost, i[0]))\n",
    "    return distance[end]\n",
    "\n",
    "v1, v2 = map(int, input().split())\n",
    "\n",
    "path1 = dijkstra(1, v1) + dijkstra(v1, v2) + dijkstra(v2, n)\n",
    "path2 = dijkstra(1, v2) + dijkstra(v2, v1) + dijkstra(v1, n)\n",
    "result = min(path1, path2)\n",
    "\n",
    "if result >= INF: print(-1)\n",
    "else: print(result)"
   ]
  },
  {
   "attachments": {},
   "cell_type": "markdown",
   "metadata": {},
   "source": [
    "13549번. 숨바꼭질 3 (https://www.acmicpc.net/problem/13549)"
   ]
  },
  {
   "cell_type": "code",
   "execution_count": null,
   "metadata": {},
   "outputs": [],
   "source": [
    "from collections import deque\n",
    "\n",
    "MAX = 100000\n",
    "check = [False] * (MAX + 1)\n",
    "dist = [-1] * (MAX + 1)\n",
    "\n",
    "n, k = map(int, input().split())\n",
    "q = deque()\n",
    "q.append(n)\n",
    "check[n] = True\n",
    "dist[n] = 0\n",
    "\n",
    "while q:\n",
    "    now = q.popleft()\n",
    "    if now * 2 <= MAX and check[now * 2] == False:\n",
    "        q.appendleft(now * 2)\n",
    "        check[now * 2] = True\n",
    "        dist[now * 2] = dist[now]\n",
    "    if now + 1 <= MAX and check[now + 1] == False:\n",
    "        q.append(now + 1)\n",
    "        check[now + 1] = True\n",
    "        dist[now + 1] = dist[now] + 1\n",
    "    if now - 1 >= 0 and check[now - 1] == False:\n",
    "        q.append(now-1)\n",
    "        check[now - 1] = True\n",
    "        dist[now - 1] = dist[now] + 1\n",
    "    \n",
    "print(dist[k])"
   ]
  }
 ],
 "metadata": {
  "language_info": {
   "name": "python"
  },
  "orig_nbformat": 4
 },
 "nbformat": 4,
 "nbformat_minor": 2
}
